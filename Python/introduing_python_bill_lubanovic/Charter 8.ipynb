{
 "cells": [
  {
   "cell_type": "markdown",
   "id": "7e13d4f1",
   "metadata": {},
   "source": [
    "# Комбинации и операторы"
   ]
  },
  {
   "cell_type": "code",
   "execution_count": 2,
   "id": "d6be97d3",
   "metadata": {},
   "outputs": [],
   "source": [
    "drinks = {\n",
    "    'martini': {'vodka', 'vermouth'},\n",
    "    'black russian': {'vodka', 'kahlua'},\n",
    "    'white russian': {'vodka', 'kahlua', 'cream'},\n",
    "    'manhattan': {'rye', 'vermouth', 'bitters'},\n",
    "    'screwdriver': {'orange juice', 'vodka'}\n",
    "}\n",
    "\n"
   ]
  },
  {
   "cell_type": "code",
   "execution_count": 3,
   "id": "b9b136d2",
   "metadata": {},
   "outputs": [
    {
     "name": "stdout",
     "output_type": "stream",
     "text": [
      "black russian\n",
      "screwdriver\n"
     ]
    }
   ],
   "source": [
    "# получим коктейли, устраивающие нас по компонентами\n",
    "for name, contents in drinks.items():\n",
    "    if 'vodka' in contents and not ('vermouth' in contents or 'cream' in contents):\n",
    "        print(name)"
   ]
  },
  {
   "cell_type": "code",
   "execution_count": 4,
   "id": "2c216b36",
   "metadata": {},
   "outputs": [
    {
     "name": "stdout",
     "output_type": "stream",
     "text": [
      "martini\n",
      "white russian\n",
      "manhattan\n"
     ]
    }
   ],
   "source": [
    "# перепишем через операторы множества\n",
    "for name, contents in drinks.items():\n",
    "    if contents & {'vermouth', 'cream'}:\n",
    "        print(name)"
   ]
  },
  {
   "cell_type": "code",
   "execution_count": 6,
   "id": "1af26ffd",
   "metadata": {},
   "outputs": [
    {
     "name": "stdout",
     "output_type": "stream",
     "text": [
      "black russian\n",
      "screwdriver\n"
     ]
    }
   ],
   "source": [
    "# перепишем через операторы множества\n",
    "for name, contents in drinks.items():\n",
    "    if 'vodka' in contents and not(contents & {'vermouth', 'cream'}):\n",
    "        print(name)"
   ]
  },
  {
   "cell_type": "markdown",
   "id": "f5d4a5b8",
   "metadata": {},
   "source": [
    "# Упражнения"
   ]
  },
  {
   "cell_type": "markdown",
   "id": "f74fcd60",
   "metadata": {},
   "source": [
    " Создайте.англо-французский.словарь.с.названием.e2f.и.выведите.его.на.экран..\n",
    "Вот.ваши.первые.слова:.dog/chien,.cat/chat.и.walrus/morse."
   ]
  },
  {
   "cell_type": "code",
   "execution_count": 2,
   "id": "09058df5",
   "metadata": {},
   "outputs": [
    {
     "data": {
      "text/plain": [
       "'morse'"
      ]
     },
     "execution_count": 2,
     "metadata": {},
     "output_type": "execute_result"
    }
   ],
   "source": [
    "e2f = {\n",
    "    'dog': 'chein',\n",
    "    'cat': 'chat',\n",
    "    'walrus': 'morse'\n",
    "}\n",
    "\n",
    "e2f['walrus']"
   ]
  },
  {
   "cell_type": "markdown",
   "id": "9a8ab79f",
   "metadata": {},
   "source": [
    "Создайте. французско-английский. словарь. f2e. на. основе. словаря. e2f..\n",
    "Используйте.метод.items."
   ]
  },
  {
   "cell_type": "code",
   "execution_count": 5,
   "id": "b2d29d79",
   "metadata": {},
   "outputs": [
    {
     "data": {
      "text/plain": [
       "'dog'"
      ]
     },
     "execution_count": 5,
     "metadata": {},
     "output_type": "execute_result"
    }
   ],
   "source": [
    "f2e = {value: key for key, value in e2f.items()}\n",
    "\n",
    "f2e['chein']"
   ]
  },
  {
   "cell_type": "markdown",
   "id": "1e61d064",
   "metadata": {},
   "source": [
    " Используйте.генератор.множества,.чтобы.создать.множество.odd.из.нечетных.\n",
    "чисел.диапазона.range(10)."
   ]
  },
  {
   "cell_type": "code",
   "execution_count": 8,
   "id": "8c5c0e7a",
   "metadata": {},
   "outputs": [
    {
     "data": {
      "text/plain": [
       "{1, 3, 5, 7, 9}"
      ]
     },
     "execution_count": 8,
     "metadata": {},
     "output_type": "execute_result"
    }
   ],
   "source": [
    "{_ for _ in range(1,10,2)}"
   ]
  },
  {
   "cell_type": "markdown",
   "id": "d468b79a",
   "metadata": {},
   "source": [
    "Используйте.функцию.zip(),.чтобы.создать.словарь.из.кортежа.ключей.\n",
    "('optimist',.'pessimist',.'troll').и.кортежа.значений.('The.glass.is.half.full',.\n",
    "'The.glass.is.half.empty',.'How.did.you.get.a.glass?')"
   ]
  },
  {
   "cell_type": "code",
   "execution_count": 9,
   "id": "2a3d3e7f",
   "metadata": {},
   "outputs": [
    {
     "data": {
      "text/plain": [
       "{'optimist': 'The glass is halffull',\n",
       " 'pessimist': 'The.glass.is.half.empty',\n",
       " 'troll': 'How.did.you.get.a.glass?'}"
      ]
     },
     "execution_count": 9,
     "metadata": {},
     "output_type": "execute_result"
    }
   ],
   "source": [
    "type_man = ('optimist', 'pessimist', 'troll')\n",
    "statements = ('The glass is halffull',\n",
    "              'The.glass.is.half.empty',\n",
    "              'How.did.you.get.a.glass?')\n",
    "\n",
    "dict(zip(type_man, statements))"
   ]
  },
  {
   "cell_type": "code",
   "execution_count": null,
   "id": "6dde059a",
   "metadata": {},
   "outputs": [],
   "source": []
  }
 ],
 "metadata": {
  "kernelspec": {
   "display_name": "Python 3 (ipykernel)",
   "language": "python",
   "name": "python3"
  },
  "language_info": {
   "codemirror_mode": {
    "name": "ipython",
    "version": 3
   },
   "file_extension": ".py",
   "mimetype": "text/x-python",
   "name": "python",
   "nbconvert_exporter": "python",
   "pygments_lexer": "ipython3",
   "version": "3.9.7"
  }
 },
 "nbformat": 4,
 "nbformat_minor": 5
}
