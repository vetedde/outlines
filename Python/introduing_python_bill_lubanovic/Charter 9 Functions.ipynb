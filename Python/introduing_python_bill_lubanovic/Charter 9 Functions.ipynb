{
 "cells": [
  {
   "cell_type": "markdown",
   "id": "eee24c24",
   "metadata": {},
   "source": [
    "# Doc string"
   ]
  },
  {
   "cell_type": "code",
   "execution_count": 1,
   "id": "65668657",
   "metadata": {},
   "outputs": [
    {
     "name": "stdout",
     "output_type": "stream",
     "text": [
      "Help on function f in module __main__:\n",
      "\n",
      "f()\n",
      "    This doc-string of fucntion\n",
      "\n"
     ]
    }
   ],
   "source": [
    "def f():\n",
    "    \"\"\"\n",
    "    This doc-string of fucntion\n",
    "    \"\"\"\n",
    "    pass\n",
    "\n",
    "help(f)"
   ]
  },
  {
   "cell_type": "code",
   "execution_count": 2,
   "id": "da735bf9",
   "metadata": {},
   "outputs": [
    {
     "data": {
      "text/plain": [
       "'\\n    This doc-string of fucntion\\n    '"
      ]
     },
     "execution_count": 2,
     "metadata": {},
     "output_type": "execute_result"
    }
   ],
   "source": [
    "f.__doc__"
   ]
  },
  {
   "cell_type": "markdown",
   "id": "c3a8a94d",
   "metadata": {},
   "source": [
    "# Замыкание"
   ]
  },
  {
   "cell_type": "code",
   "execution_count": 3,
   "id": "7913a965",
   "metadata": {},
   "outputs": [
    {
     "data": {
      "text/plain": [
       "<function __main__.outer.<locals>.inner()>"
      ]
     },
     "execution_count": 3,
     "metadata": {},
     "output_type": "execute_result"
    }
   ],
   "source": [
    "def outer(arg):\n",
    "    def inner():\n",
    "        print(f\"this is arg value: {arg}\")\n",
    "    return inner\n",
    "    \n",
    "outer(\"val1\")"
   ]
  },
  {
   "cell_type": "code",
   "execution_count": 4,
   "id": "9e56b448",
   "metadata": {},
   "outputs": [
    {
     "name": "stdout",
     "output_type": "stream",
     "text": [
      "this is arg value: val1\n"
     ]
    }
   ],
   "source": [
    "f = outer(\"val1\")\n",
    "f()"
   ]
  },
  {
   "cell_type": "code",
   "execution_count": 6,
   "id": "e3bd492e",
   "metadata": {},
   "outputs": [
    {
     "name": "stdout",
     "output_type": "stream",
     "text": [
      "1\n"
     ]
    }
   ],
   "source": [
    "def outer():\n",
    "    def inner():\n",
    "        print(a)\n",
    "    a = 1\n",
    "    return inner\n",
    "    \n",
    "f = outer()\n",
    "f()"
   ]
  },
  {
   "cell_type": "markdown",
   "id": "3286c277",
   "metadata": {},
   "source": [
    "# Генераторы"
   ]
  },
  {
   "cell_type": "code",
   "execution_count": 8,
   "id": "5aefe155",
   "metadata": {},
   "outputs": [
    {
     "name": "stdout",
     "output_type": "stream",
     "text": [
      "<generator object my_range at 0x7fad2c3a9190>\n",
      "[1, 2, 3, 4]\n"
     ]
    }
   ],
   "source": [
    "def my_range(first=0, last=0, step=1):\n",
    "    number = first\n",
    "    while number < last:\n",
    "        yield number\n",
    "        number += step\n",
    "\n",
    "print(my_range(1,5))\n",
    "print(list(my_range(1,5)))"
   ]
  },
  {
   "cell_type": "markdown",
   "id": "e4f9ca39",
   "metadata": {},
   "source": [
    "# Декоратор"
   ]
  },
  {
   "cell_type": "code",
   "execution_count": 10,
   "id": "60c2a301",
   "metadata": {},
   "outputs": [
    {
     "name": "stdout",
     "output_type": "stream",
     "text": [
      "Function name is my_f\n",
      "It has args ((5,), {})\n"
     ]
    },
    {
     "ename": "TypeError",
     "evalue": "'NoneType' object is not callable",
     "output_type": "error",
     "traceback": [
      "\u001b[0;31m---------------------------------------------------------------------------\u001b[0m",
      "\u001b[0;31mTypeError\u001b[0m                                 Traceback (most recent call last)",
      "\u001b[0;32m/tmp/ipykernel_14203/2951458998.py\u001b[0m in \u001b[0;36m<module>\u001b[0;34m\u001b[0m\n\u001b[1;32m     10\u001b[0m \u001b[0;34m\u001b[0m\u001b[0m\n\u001b[1;32m     11\u001b[0m \u001b[0mf_\u001b[0m \u001b[0;34m=\u001b[0m \u001b[0mmy_f\u001b[0m\u001b[0;34m(\u001b[0m\u001b[0;36m5\u001b[0m\u001b[0;34m)\u001b[0m\u001b[0;34m\u001b[0m\u001b[0;34m\u001b[0m\u001b[0m\n\u001b[0;32m---> 12\u001b[0;31m \u001b[0mf_\u001b[0m\u001b[0;34m(\u001b[0m\u001b[0;34m)\u001b[0m\u001b[0;34m\u001b[0m\u001b[0;34m\u001b[0m\u001b[0m\n\u001b[0m",
      "\u001b[0;31mTypeError\u001b[0m: 'NoneType' object is not callable"
     ]
    }
   ],
   "source": [
    "def my_decor(f):\n",
    "    def inner(*args, **kwargs):\n",
    "        print(f\"Function name is {f.__name__}\")\n",
    "        print(f\"It has args {args, kwargs}\")\n",
    "    return inner\n",
    "        \n",
    "@my_decor\n",
    "def my_f(a, b=1):\n",
    "    print(a + b)\n",
    "    \n",
    "f_ = my_f(5)"
   ]
  },
  {
   "cell_type": "code",
   "execution_count": null,
   "id": "533f4adf",
   "metadata": {},
   "outputs": [],
   "source": []
  }
 ],
 "metadata": {
  "kernelspec": {
   "display_name": "Python 3 (ipykernel)",
   "language": "python",
   "name": "python3"
  },
  "language_info": {
   "codemirror_mode": {
    "name": "ipython",
    "version": 3
   },
   "file_extension": ".py",
   "mimetype": "text/x-python",
   "name": "python",
   "nbconvert_exporter": "python",
   "pygments_lexer": "ipython3",
   "version": "3.9.7"
  }
 },
 "nbformat": 4,
 "nbformat_minor": 5
}
